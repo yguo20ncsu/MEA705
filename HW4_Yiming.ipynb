{
 "cells": [
  {
   "cell_type": "code",
   "execution_count": 1,
   "metadata": {},
   "outputs": [],
   "source": [
    "import math\n",
    "import numpy as np\n",
    "from matplotlib import pyplot as plt\n",
    "g = 9.81\n",
    "R = 287.00\n",
    "\n",
    "###################Extract Standard Atmosphere T0###########################\n",
    "def cal(p0, t0, a, h0, h1):\n",
    "    if a != 0:\n",
    "        t1 = t0 + a * (h1 - h0)\n",
    "        p1 = p0 * (t1 / t0) ** (-g / a / R)\n",
    "    else:\n",
    "        t1 = t0\n",
    "        p1 = p0 * math.exp(-g / R / t0 * (h1 - h0))\n",
    "    return t1, p1\n",
    "\n",
    "def Satm(altitude):\n",
    "    a = [-0.0065, 0, 0.001, 0.0028]\n",
    "    h = [11000, 20000, 32000, 47000]\n",
    "    p0 = 101325\n",
    "    t0 = 288.15\n",
    "    prevh = 0\n",
    "    if altitude < 0 or altitude > 47000:\n",
    "        print(\"altitude must be in [0, 47000]\")\n",
    "        return\n",
    "    for i in range(0, 4):\n",
    "        if altitude <= h[i]:\n",
    "            temperature, pressure = cal(p0, t0, a[i], prevh, altitude)\n",
    "            break;\n",
    "        else:\n",
    "            t0, p0 = cal(p0, t0, a[i], prevh, h[i])\n",
    "            prevh = h[i]\n",
    "    return temperature, pressure\n",
    "\n",
    "z = np.arange(0,21000,1000);\n",
    "t = np.zeros((z.shape))\n",
    "p = np.zeros((z.shape))\n",
    "\n",
    "for k in range(z.size):\n",
    "    t1,p1=Satm(z[k]);\n",
    "    t[k] = t1; p[k] = p1;\n",
    "    \n",
    "T0 = t;"
   ]
  },
  {
   "cell_type": "code",
   "execution_count": 2,
   "metadata": {},
   "outputs": [
    {
     "data": {
      "image/png": "[encoded data removed]",
      "text/plain": [
       "<Figure size 432x288 with 2 Axes>"
      ]
     },
     "metadata": {
      "needs_background": "light"
     },
     "output_type": "display_data"
    }
   ],
   "source": [
    "plt.subplots_adjust(wspace=0.6, hspace=0.5)\n",
    "plt.subplot(1,2,1);plt.plot(t,z/1000); plt.axis([100,300,0,20]);\n",
    "plt.xlabel('T0[K]');plt.ylabel('Altitude[km]');\n",
    "plt.subplot(1,2,2);plt.plot(p/100,z/1000); plt.axis([0,1000,0,20]);\n",
    "plt.xlabel('p[hPa]');plt.ylabel('Altitude[km]');"
   ]
  },
  {
   "cell_type": "code",
   "execution_count": 3,
   "metadata": {},
   "outputs": [
    {
     "name": "stdout",
     "output_type": "stream",
     "text": [
      "(1)The gas must be as hot as 326.439019587815K to reach a maximum altitude of 20km\n",
      "(2)The gas must be as hot as 411.873880597014K to reach an equilibrium altitude of 20km\n",
      "(3)The gas must have a initial velocity of 294.669088356794m/s to reach a maximum altitude of 20km\n"
     ]
    }
   ],
   "source": [
    "################Solve for Homework#################\n",
    "##########(1)############\n",
    "g = 9.81; Cp = 1005  #J/kg/K;\n",
    "gammad = g/Cp; dz = 1000.0;\n",
    "Tlapse = gammad*z;\n",
    "s = 0;\n",
    "from sympy.solvers import solve\n",
    "from sympy import Symbol\n",
    "x = Symbol('x')\n",
    "for k in range(z.size):\n",
    "    s = s+(x-Tlapse[k])/T0[k]*dz;\n",
    "x1 = solve(s-20000,x);\n",
    "\n",
    "print '(1)The gas must be as hot as '+str(x1[0])+'K to reach a maximum altitude of 20km';\n",
    "\n",
    "##########(2)############\n",
    "x = Symbol('x')\n",
    "x2 = solve((x-Tlapse[-1]-T0[-1])/T0[-1],x);\n",
    "\n",
    "print '(2)The gas must be as hot as '+str(x2[0])+'K to reach an equilibrium altitude of 20km';\n",
    "\n",
    "##########(3)############\n",
    "w = Symbol('w')\n",
    "s = 0;\n",
    "for k in range(z.size):\n",
    "    s = s+g*(T0[0]-Tlapse[k]-T0[k])/T0[k]*dz;\n",
    "w0 = solve(s+w**2/2,w);\n",
    "\n",
    "print '(3)The gas must have a initial velocity of '+str(w0[1])+'m/s to reach a maximum altitude of 20km';\n"
   ]
  },
  {
   "cell_type": "code",
   "execution_count": 4,
   "metadata": {},
   "outputs": [
    {
     "name": "stdout",
     "output_type": "stream",
     "text": [
      "Using reduced lapse rate:\n",
      "(1)281.522390058161K\n",
      "(2)326.649999999999K\n",
      "(3)89.3664156711706m/s\n"
     ]
    }
   ],
   "source": [
    "##########(4)############\n",
    "gammad = 0.0055;\n",
    "Tlapse = gammad*z;\n",
    "s = 0;\n",
    "from sympy.solvers import solve\n",
    "from sympy import Symbol\n",
    "x = Symbol('x')\n",
    "for k in range(z.size):\n",
    "    s = s+(x-Tlapse[k])/T0[k]*dz;\n",
    "x11 = solve(s-20000,x);\n",
    "print 'Using reduced lapse rate:'\n",
    "print '(1)'+str(x11[0])+'K'\n",
    "\n",
    "x = Symbol('x')\n",
    "x22 = solve((x-Tlapse[-1]-T0[-1])/T0[-1],x);\n",
    "print '(2)'+str(x22[0])+'K'\n",
    "\n",
    "w = Symbol('w')\n",
    "s = 0;\n",
    "for k in range(z.size):\n",
    "    s = s+g*(T0[0]-Tlapse[k]-T0[k])/T0[k]*dz;\n",
    "w00 = solve(s+w**2/2,w);\n",
    "\n",
    "print '(3)'+str(w00[1])+'m/s'\n"
   ]
  },
  {
   "cell_type": "code",
   "execution_count": 5,
   "metadata": {},
   "outputs": [
    {
     "name": "stdout",
     "output_type": "stream",
     "text": [
      "If gases are emitted from 3km:\n",
      "(1)369.233736254858K\n",
      "(2)411.873880597014K\n",
      "(3)341.013095534005m/s\n"
     ]
    }
   ],
   "source": [
    "##########(5)############\n",
    "T0 = T0[3::]; z = z[3::];\n",
    "g = 9.81; Cp = 1005  #J/kg/K;\n",
    "gammad = g/Cp; dz = 1000.0;\n",
    "Tlapse = gammad*z;\n",
    "s = 0;\n",
    "x = Symbol('x')\n",
    "for k in range(z.size):\n",
    "    s = s+(x-Tlapse[k])/T0[k]*dz;\n",
    "x111 = solve(s-20000,x);\n",
    "\n",
    "print 'If gases are emitted from 3km:'\n",
    "print '(1)'+str(x111[0])+'K'\n",
    "\n",
    "x = Symbol('x')\n",
    "x222 = solve((x-Tlapse[-1]-T0[-1])/T0[-1],x);\n",
    "\n",
    "print '(2)'+str(x222[0])+'K'\n",
    "\n",
    "w = Symbol('w')\n",
    "s = 0;\n",
    "for k in range(z.size):\n",
    "    s = s+g*(T0[0]-Tlapse[k]-T0[k])/T0[k]*dz;\n",
    "w000 = solve(s+w**2/2,w);\n",
    "\n",
    "print '(3)'+str(w000[1])+'m/s'\n"
   ]
  }
 ],
 "metadata": {
  "kernelspec": {
   "display_name": "Python 2",
   "language": "python",
   "name": "python2"
  },
  "language_info": {
   "codemirror_mode": {
    "name": "ipython",
    "version": 2
   },
   "file_extension": ".py",
   "mimetype": "text/x-python",
   "name": "python",
   "nbconvert_exporter": "python",
   "pygments_lexer": "ipython2",
   "version": "2.7.15"
  }
 },
 "nbformat": 4,
 "nbformat_minor": 2
}
